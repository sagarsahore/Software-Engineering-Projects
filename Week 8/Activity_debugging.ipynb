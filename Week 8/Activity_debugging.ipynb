{
 "cells": [
  {
   "cell_type": "code",
   "execution_count": 6,
   "id": "d54f011e-918e-4af8-9d88-bdd3abe5ac0a",
   "metadata": {},
   "outputs": [],
   "source": [
    "from random import randint"
   ]
  },
  {
   "cell_type": "code",
   "execution_count": 7,
   "id": "e02fd5e3-2b7e-471a-a87d-815b42ed4b54",
   "metadata": {},
   "outputs": [
    {
     "name": "stdout",
     "output_type": "stream",
     "text": [
      "You got it!\n"
     ]
    }
   ],
   "source": [
    "# example 1\n",
    "for i in range(1, 20):\n",
    "    if i == 19:\n",
    "        print(f\"You got it!\")\n",
    "\n",
    "# Describe the problem - Write your answers as comments:\n",
    "# 1. what is the loop doing?\n",
    "# loop is running from 1 to 20, if i = 19 it prints \"You got it!\" one time, if i is 10 loop will run 10 more time\n",
    "# 2. When is the function meant to print \"You got it!\"?\n",
    "# i is less then 20\n",
    "# 3. What are your assumptions about the value of i?\n",
    "# i is an integer that starts at 1 and increases by 1 each time the loop runs until it reaches 20"
   ]
  },
  {
   "cell_type": "code",
   "execution_count": null,
   "id": "c98e40dc-8074-4260-aeeb-261b2b599563",
   "metadata": {},
   "outputs": [],
   "source": []
  },
  {
   "cell_type": "code",
   "execution_count": null,
   "id": "8d18a63c-ab13-4a31-942c-be33a1607cda",
   "metadata": {},
   "outputs": [
    {
     "name": "stdout",
     "output_type": "stream",
     "text": [
      "3\n"
     ]
    }
   ],
   "source": [
    "import random\n",
    "\n",
    "# example 2\n",
    "dice_images = [\"1\", \"2\", \"3\", \"4\", \"5\", \"6\"]\n",
    "dice_num = range(6)\n",
    "dice_num = random.randint(0, 5)\n",
    "print(dice_images[dice_num])\n",
    "\n",
    "# Describe the problem - Write your answers as comments:\n",
    "# 1. what is the code doing?\n",
    "# it is printing a random number from a list\n",
    "# 2. What is the purpose of the variable dice_num?\n",
    "# it is used to store a random number from 0 to 5"
   ]
  },
  {
   "cell_type": "code",
   "execution_count": null,
   "id": "a865d918-5ee4-4c6a-beda-bbcd2e3ea9fa",
   "metadata": {},
   "outputs": [],
   "source": []
  },
  {
   "cell_type": "code",
   "execution_count": null,
   "id": "88ce2963-10bf-42ec-a02f-89811bda74fe",
   "metadata": {},
   "outputs": [
    {
     "name": "stdout",
     "output_type": "stream",
     "text": [
      "You are a Millennial\n"
     ]
    }
   ],
   "source": [
    "# example 3\n",
    "year = int(input(\"What is your year of birth?\"))\n",
    "\n",
    "if year > 1980 and year < 1994:\n",
    "    print(\"You are a Millennial\")\n",
    "elif year > 1994:\n",
    "    print(\"You are a Gen Z\")\n",
    "# 1. what is the code doing?\n",
    "# it is checking the year of birth and printing the generation based on the year\n",
    "# 2. What is the purpose of the variable year?\n",
    "# it is used to store the year of birth entered by the user"
   ]
  },
  {
   "cell_type": "code",
   "execution_count": null,
   "id": "95197a19-1f0c-49b1-8d98-06f9098eaa91",
   "metadata": {},
   "outputs": [],
   "source": []
  },
  {
   "cell_type": "code",
   "execution_count": null,
   "id": "c285fc19-0db3-4af1-bcbe-53bbbeccece4",
   "metadata": {},
   "outputs": [
    {
     "name": "stdout",
     "output_type": "stream",
     "text": [
      "We have 0 in total.\n"
     ]
    }
   ],
   "source": [
    "# example 4\n",
    "word_per_page = 0\n",
    "pages = int(input(\"Number of pages: \"))\n",
    "word_per_page == int(input(\"Number of words per page: \"))\n",
    "total_words = pages * word_per_page\n",
    "\n",
    "print(f\"We have {total_words} in total.\")\n",
    "\n",
    "# 1. what is the code doing?\n",
    "# it is calculating the total number of words based on the number of pages and words per page\n",
    "# 2. What is the purpose of the variable word_per_page?\n",
    "# it is used to store the number of words per page entered by the user\n",
    "# 3. What is the purpose of the variable total_words?\n",
    "# it is used to store the total number of words calculated by multiplying pages and word_per_page\n",
    "# 4. What is the purpose of the variable pages?\n",
    "# it is used to store the number of pages entered by the user"
   ]
  },
  {
   "cell_type": "code",
   "execution_count": null,
   "id": "a06c6fa2-8fd9-471d-aed7-c76f37704579",
   "metadata": {},
   "outputs": [],
   "source": []
  },
  {
   "cell_type": "code",
   "execution_count": null,
   "id": "2effe735-10b3-4966-bb79-fffd2dc5138f",
   "metadata": {},
   "outputs": [
    {
     "name": "stdout",
     "output_type": "stream",
     "text": [
      "[107]\n"
     ]
    }
   ],
   "source": [
    "# example 5\n",
    "def add(a1, a2):\n",
    "    return a1 + a2\n",
    "\n",
    "def mutate(a_list):\n",
    "    b_list = []\n",
    "    new_item = 0\n",
    "    for item in a_list:\n",
    "        new_item = item * 2\n",
    "        new_item += randint(1, 3)\n",
    "        new_item = add(new_item, item)\n",
    "    b_list.append(new_item)\n",
    "\n",
    "    print(b_list)\n",
    "\n",
    "a_demo_list = [1, 2, 3, 5, 1, 21, 4, 35]\n",
    "mutate(a_demo_list)\n",
    "\n",
    "# 1. what is the code doing?\n",
    "# it is defining a function that takes a list, doubles each item, adds a random number between 1 and 3,\n",
    "# and then adds the original item to the new item, finally appending it to a new list and printing that list\n",
    "# 2. What is the purpose of the function add?\n",
    "# it is used to add two numbers together\n",
    "# 3. What is the purpose of the function mutate?\n",
    "# it is used to mutate a list by applying a transformation to each item in the list and storing the result in a new list\n",
    "# 4. What is the purpose of the variable a_demo_list?\n",
    "# it is used to store a list of integers that will be passed to the mutate function for processing  \n",
    "# 5. What is the purpose of the variable b_list?\n",
    "# it is used to store the new list that contains the mutated items from the original list\n",
    "# 6. What is the purpose of the variable new_item?  \n",
    "# it is used to store the transformed value of each item in the original list during the mutation process\n",
    "# 7. What is the purpose of the variable item?\n",
    "# it is used to iterate over each item in the original list a_list during the mutation process\n",
    "# 8. What is the purpose of the variable a_list?\n",
    "# it is used to store the original list that is passed to the mutate function for processing\n",
    "# 9. What is the purpose of the variable a1 and a2?\n",
    "# they are used as parameters for the add function to receive two numbers that will be added together\n",
    "# 10. What is the purpose of the variable b_list?\n",
    "# it is used to store the new list that contains the mutated items from the original list, which is printed at the end of the mutate function\n",
    "# 11. What is the purpose of the variable new_item?\n",
    "# it is used to store the transformed value of each item in the original list during the mutation process, which is then appended to b_list"
   ]
  },
  {
   "cell_type": "code",
   "execution_count": 14,
   "id": "2f7d32a6-565c-4573-9fb2-6203e69943f9",
   "metadata": {},
   "outputs": [
    {
     "name": "stdout",
     "output_type": "stream",
     "text": [
      "[107]\n"
     ]
    }
   ],
   "source": [
    "a_demo_list = [1, 2, 3, 5, 1, 21, 4, 35]\n",
    "mutate(a_demo_list)"
   ]
  },
  {
   "cell_type": "code",
   "execution_count": null,
   "id": "d4192a55-7ed1-4052-b5ac-3cc3a1c1a7c5",
   "metadata": {},
   "outputs": [],
   "source": []
  },
  {
   "cell_type": "code",
   "execution_count": null,
   "id": "0f6a8d7e-d608-4d89-872f-33b4478ce2d3",
   "metadata": {},
   "outputs": [],
   "source": []
  }
 ],
 "metadata": {
  "kernelspec": {
   "display_name": ".venv",
   "language": "python",
   "name": "python3"
  },
  "language_info": {
   "codemirror_mode": {
    "name": "ipython",
    "version": 3
   },
   "file_extension": ".py",
   "mimetype": "text/x-python",
   "name": "python",
   "nbconvert_exporter": "python",
   "pygments_lexer": "ipython3",
   "version": "3.13.0"
  }
 },
 "nbformat": 4,
 "nbformat_minor": 5
}
